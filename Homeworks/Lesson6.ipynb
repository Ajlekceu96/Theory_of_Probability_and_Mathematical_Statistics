{
 "cells": [
  {
   "cell_type": "markdown",
   "id": "21a555e9",
   "metadata": {},
   "source": [
    "## Урок 6. Сравнение долей. Построение доверительного интервала\n",
    "\n",
    "### Задача 1\n",
    "\n",
    "Известно, что генеральная совокупность распределена нормально со средним квадратическим отклонением, равным 16.  \n",
    "Найти доверительный интервал для оценки математического ожидания a с надежностью 0.95,  \n",
    "если выборочная средняя M = 80, а объем выборки n = 256."
   ]
  },
  {
   "cell_type": "code",
   "execution_count": 59,
   "id": "ed4e3b91",
   "metadata": {},
   "outputs": [],
   "source": [
    "import numpy as np\n",
    "from statsmodels.stats.weightstats import _tconfint_generic\n",
    "from scipy.stats import norm\n",
    "from math import sqrt"
   ]
  },
  {
   "cell_type": "code",
   "execution_count": 60,
   "id": "8875e742",
   "metadata": {},
   "outputs": [],
   "source": [
    "std_mean = np.sqrt(16) / 256\n",
    "result = _tconfint_generic(80, std_mean, 256 - 1, 1-0.95, 'two-sided')"
   ]
  },
  {
   "cell_type": "code",
   "execution_count": 61,
   "id": "8b541f00",
   "metadata": {},
   "outputs": [
    {
     "name": "stdout",
     "output_type": "stream",
     "text": [
      "Ответ: (79.96922952234611, 80.03077047765389)\n"
     ]
    }
   ],
   "source": [
    "print(f\"Ответ: {result}\")"
   ]
  },
  {
   "cell_type": "code",
   "execution_count": 62,
   "id": "c8f77121",
   "metadata": {},
   "outputs": [],
   "source": [
    "σ = 16\n",
    "n = 256\n",
    "μ = 80\n",
    "α = 1-0.95\n",
    "Z = 1.96\n",
    "\n",
    "result1 = μ + norm.ppf(α/2) * σ / sqrt(n)\n",
    "result2 = μ - norm.ppf(α/2) * σ / sqrt(n)"
   ]
  },
  {
   "cell_type": "code",
   "execution_count": 63,
   "id": "da8d8885",
   "metadata": {},
   "outputs": [
    {
     "name": "stdout",
     "output_type": "stream",
     "text": [
      "Ответ: 78.04003601545995\n",
      "Ответ: 81.95996398454005\n"
     ]
    }
   ],
   "source": [
    "print(f\"Ответ: {result1}\")\n",
    "print(f\"Ответ: {result2}\")"
   ]
  },
  {
   "cell_type": "markdown",
   "id": "01afbec7",
   "metadata": {},
   "source": [
    "### Задача 2\n",
    "\n",
    "В результате 10 независимых измерений некоторой величины X, выполненных с одинаковой точностью,  \n",
    "получены опытные данные: 6.9, 6.1, 6.2, 6.8, 7.5, 6.3, 6.4, 6.9, 6.7, 6.1\n",
    "\n",
    "Предполагая, что результаты измерений подчинены нормальному закону распределения вероятностей,  \n",
    "оценить истинное значение величины X при помощи доверительного интервала,  \n",
    "покрывающего это значение с доверительной вероятностью 0,95."
   ]
  },
  {
   "cell_type": "code",
   "execution_count": 64,
   "id": "b1de7860",
   "metadata": {},
   "outputs": [],
   "source": [
    "n = 10\n",
    "x = np.array([6.9, 6.1, 6.2, 6.8, 7.5, 6.3, 6.4, 6.9, 6.7, 6.1])\n",
    "α = 1-0.95\n",
    "t = 2.262\n",
    "\n",
    "μ = x.mean()\n",
    "σ = np.std(x, ddof = 1)\n",
    "I = t * σ / sqrt(n)\n",
    "T1 = μ - I\n",
    "T2 = μ + I"
   ]
  },
  {
   "cell_type": "code",
   "execution_count": 65,
   "id": "f0bb6dc2",
   "metadata": {},
   "outputs": [
    {
     "name": "stdout",
     "output_type": "stream",
     "text": [
      "Оценка математического ожидания (μ) - 6.59\n",
      "Среднеквадратичное отклонение (σ) - 0.4508\n",
      "Интервал - 0.32246\n",
      "Доверительный интервал для оценки математического ожидания: [6.2675; 6.9125]\n"
     ]
    }
   ],
   "source": [
    "print(f'Оценка математического ожидания (μ) - {μ:0.5}')\n",
    "print(f'Среднеквадратичное отклонение (σ) - {σ:0.5}')\n",
    "print(f'Интервал - {I:0.5}')\n",
    "print(f'Доверительный интервал для оценки математического ожидания: [{T1:0.5}; {T2:0.5}]')"
   ]
  },
  {
   "cell_type": "markdown",
   "id": "a1ca5624",
   "metadata": {},
   "source": [
    "### Задача 3\n",
    "\n",
    "Рост дочерей 175, 167, 154, 174, 178, 148, 160, 167, 169, 170  \n",
    "Рост матерей  178, 165, 165, 173, 168, 155, 160, 164, 178, 175  \n",
    "Используя эти данные построить 95% доверительный интервал для разности среднего роста родителей и детей.  "
   ]
  },
  {
   "cell_type": "code",
   "execution_count": null,
   "id": "d24f3e5c",
   "metadata": {},
   "outputs": [],
   "source": []
  },
  {
   "cell_type": "code",
   "execution_count": null,
   "id": "3c0f18d7",
   "metadata": {},
   "outputs": [],
   "source": []
  },
  {
   "cell_type": "code",
   "execution_count": null,
   "id": "d43ee013",
   "metadata": {},
   "outputs": [],
   "source": []
  }
 ],
 "metadata": {
  "kernelspec": {
   "display_name": "Python 3 (ipykernel)",
   "language": "python",
   "name": "python3"
  },
  "language_info": {
   "codemirror_mode": {
    "name": "ipython",
    "version": 3
   },
   "file_extension": ".py",
   "mimetype": "text/x-python",
   "name": "python",
   "nbconvert_exporter": "python",
   "pygments_lexer": "ipython3",
   "version": "3.9.13"
  }
 },
 "nbformat": 4,
 "nbformat_minor": 5
}
