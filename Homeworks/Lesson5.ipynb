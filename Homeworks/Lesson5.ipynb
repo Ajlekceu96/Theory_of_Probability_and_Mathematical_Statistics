{
 "cells": [
  {
   "cell_type": "markdown",
   "id": "21a555e9",
   "metadata": {},
   "source": [
    "## Урок 5. Тестирование гипотез\n",
    "\n",
    "### Задача 1\n",
    "\n",
    "Когда используется критерий Стьюдента, а когда Z –критерий?"
   ]
  },
  {
   "cell_type": "code",
   "execution_count": null,
   "id": "9a3d7f26",
   "metadata": {},
   "outputs": [],
   "source": []
  },
  {
   "cell_type": "code",
   "execution_count": null,
   "id": "c6da9c39",
   "metadata": {},
   "outputs": [],
   "source": []
  },
  {
   "cell_type": "code",
   "execution_count": null,
   "id": "c8f77121",
   "metadata": {},
   "outputs": [],
   "source": [
    "print(f\"Ответ: {result}\")"
   ]
  },
  {
   "cell_type": "markdown",
   "id": "01afbec7",
   "metadata": {},
   "source": [
    "### Задача 2\n",
    "\n",
    "Проведите тест гипотезы.  \n",
    "Утверждается, что шарики для подшипников,  \n",
    "изготовленные автоматическим станком, имеют средний диаметр 17 мм.  \n",
    "Используя односторонний критерий с α=0,05, проверить эту гипотезу,  \n",
    "если в выборке из n=100 шариков средний диаметр оказался равным 17.5 мм,  \n",
    "а дисперсия известна и равна 4 кв. мм.  "
   ]
  },
  {
   "cell_type": "code",
   "execution_count": null,
   "id": "853c9af1",
   "metadata": {},
   "outputs": [],
   "source": []
  },
  {
   "cell_type": "code",
   "execution_count": null,
   "id": "cbc99dd9",
   "metadata": {},
   "outputs": [],
   "source": []
  },
  {
   "cell_type": "code",
   "execution_count": null,
   "id": "97b22f6a",
   "metadata": {},
   "outputs": [],
   "source": [
    "print(f\"Ответ: {result}\")"
   ]
  },
  {
   "cell_type": "markdown",
   "id": "a1ca5624",
   "metadata": {},
   "source": [
    "### Задача 3\n",
    "\n",
    "Проведите тест гипотезы.  \n",
    "Продавец утверждает, что средний вес пачки печенья составляет 200 г.  \n",
    "Из партии извлечена выборка из 10 пачек. Вес каждой пачки составляет:  \n",
    "\n",
    "202, 203, 199, 197, 195, 201, 200, 204, 194, 190. \n",
    "\n",
    "Известно, что их веса распределены нормально.  \n",
    "Верно ли утверждение продавца, если учитывать, что доверительная вероятность равна 99%? (Провести двусторонний тест.)"
   ]
  },
  {
   "cell_type": "code",
   "execution_count": null,
   "id": "d24f3e5c",
   "metadata": {},
   "outputs": [],
   "source": []
  },
  {
   "cell_type": "code",
   "execution_count": null,
   "id": "3c0f18d7",
   "metadata": {},
   "outputs": [],
   "source": []
  },
  {
   "cell_type": "code",
   "execution_count": null,
   "id": "d43ee013",
   "metadata": {},
   "outputs": [],
   "source": [
    "print(f\"Ответ: {result}\")"
   ]
  },
  {
   "cell_type": "markdown",
   "id": "70950c2c",
   "metadata": {},
   "source": [
    "### Задача 4\n",
    "\n",
    "Есть ли статистически значимые различия в росте дочерей?  \n",
    "\n",
    "Рост матерей 172, 177, 158, 170, 178,175, 164, 160, 169, 165  \n",
    "Рост взрослых дочерей: 173, 175, 162, 174, 175, 168, 155, 170, 160  "
   ]
  },
  {
   "cell_type": "code",
   "execution_count": null,
   "id": "6435908c",
   "metadata": {},
   "outputs": [],
   "source": []
  },
  {
   "cell_type": "code",
   "execution_count": null,
   "id": "de336a90",
   "metadata": {},
   "outputs": [],
   "source": []
  },
  {
   "cell_type": "code",
   "execution_count": null,
   "id": "9b80afe5",
   "metadata": {},
   "outputs": [],
   "source": [
    "print(f\"Ответ: {result}\")"
   ]
  }
 ],
 "metadata": {
  "kernelspec": {
   "display_name": "Python 3 (ipykernel)",
   "language": "python",
   "name": "python3"
  },
  "language_info": {
   "codemirror_mode": {
    "name": "ipython",
    "version": 3
   },
   "file_extension": ".py",
   "mimetype": "text/x-python",
   "name": "python",
   "nbconvert_exporter": "python",
   "pygments_lexer": "ipython3",
   "version": "3.9.13"
  }
 },
 "nbformat": 4,
 "nbformat_minor": 5
}
