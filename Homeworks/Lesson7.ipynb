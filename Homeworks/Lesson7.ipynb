{
 "cells": [
  {
   "cell_type": "markdown",
   "id": "21a555e9",
   "metadata": {},
   "source": [
    "## Урок 7. Непараметрические тесты\n",
    "\n",
    "### Задача 1\n",
    "\n",
    "Выбрать тест и проверить, есть  ли различия между выборками:  \n",
    "1 )  Даны две  независимые выборки. Не соблюдается условие нормальности  \n",
    "\n",
    "x1  380,420, 290  \n",
    "y1 140,360,200,900  \n",
    "\n",
    "Сделайте вывод по результатам, полученным с помощью функции  "
   ]
  },
  {
   "cell_type": "code",
   "execution_count": null,
   "id": "ed4e3b91",
   "metadata": {},
   "outputs": [],
   "source": []
  },
  {
   "cell_type": "code",
   "execution_count": null,
   "id": "a8b5b5a5",
   "metadata": {},
   "outputs": [],
   "source": []
  },
  {
   "cell_type": "code",
   "execution_count": null,
   "id": "c8f77121",
   "metadata": {},
   "outputs": [],
   "source": []
  },
  {
   "cell_type": "markdown",
   "id": "01afbec7",
   "metadata": {},
   "source": [
    "### Задача 2\n",
    "\n",
    "2 ) Исследовалось влияние препарата на уровень давления пациентов.  \n",
    "Сначала измерялось давление до приема препарата, потом через 10 минут и через 30 минут.  \n",
    "Есть ли статистически значимые различия?  \n",
    "\n",
    "1е измерение до приема препарата: 150, 160, 165, 145, 155  \n",
    "2е измерение через 10 минут: 140, 155, 150,  130, 135  \n",
    "3е измерение через 30 минут: 130, 130, 120, 130, 125  "
   ]
  },
  {
   "cell_type": "code",
   "execution_count": null,
   "id": "b1de7860",
   "metadata": {},
   "outputs": [],
   "source": []
  },
  {
   "cell_type": "code",
   "execution_count": null,
   "id": "f0bb6dc2",
   "metadata": {},
   "outputs": [],
   "source": []
  },
  {
   "cell_type": "code",
   "execution_count": null,
   "id": "68cbc46a",
   "metadata": {},
   "outputs": [],
   "source": []
  },
  {
   "cell_type": "markdown",
   "id": "a1ca5624",
   "metadata": {},
   "source": [
    "### Задача 3\n",
    "\n",
    "3 ) Сравните 1 и 2 е измерения, предполагая, что 3го измерения через 30 минут не было."
   ]
  },
  {
   "cell_type": "code",
   "execution_count": null,
   "id": "d24f3e5c",
   "metadata": {},
   "outputs": [],
   "source": []
  },
  {
   "cell_type": "code",
   "execution_count": null,
   "id": "3c0f18d7",
   "metadata": {},
   "outputs": [],
   "source": []
  },
  {
   "cell_type": "code",
   "execution_count": null,
   "id": "d43ee013",
   "metadata": {},
   "outputs": [],
   "source": []
  },
  {
   "cell_type": "markdown",
   "id": "70950c2c",
   "metadata": {},
   "source": [
    "### Задача 4\n",
    "\n",
    "4 ) Даны 3 группы  учеников плавания.  \n",
    "\n",
    "В 1 группе время на дистанцию 50 м составляют: 56, 60, 62, 55, 71, 67, 59, 58, 64, 67  \n",
    "Вторая группа : 57, 58, 69, 48, 72, 70, 68, 71, 50, 53  \n",
    "Третья группа: 57, 67, 49, 48, 47, 55, 66, 51, 54  "
   ]
  },
  {
   "cell_type": "code",
   "execution_count": null,
   "id": "6435908c",
   "metadata": {},
   "outputs": [],
   "source": []
  },
  {
   "cell_type": "code",
   "execution_count": null,
   "id": "de336a90",
   "metadata": {},
   "outputs": [],
   "source": []
  },
  {
   "cell_type": "code",
   "execution_count": null,
   "id": "9b80afe5",
   "metadata": {},
   "outputs": [],
   "source": []
  },
  {
   "cell_type": "markdown",
   "id": "af04ab71",
   "metadata": {},
   "source": [
    "### Задача 5\n",
    "\n",
    "5) Заявляется, что партия изготавливается со средним арифметическим 2,5 см.  \n",
    "Проверить данную гипотезу, если известно, что размеры изделий подчинены нормальному закону распределения.  \n",
    "Объем выборки 10, уровень статистической значимости 5%  \n",
    "\n",
    "2.51, 2.35, 2.74, 2.56, 2.40, 2.36, 2.65, 2.7, 2.67, 2.34"
   ]
  },
  {
   "cell_type": "code",
   "execution_count": null,
   "id": "5d9e4260",
   "metadata": {},
   "outputs": [],
   "source": []
  },
  {
   "cell_type": "code",
   "execution_count": null,
   "id": "6ce84257",
   "metadata": {},
   "outputs": [],
   "source": []
  },
  {
   "cell_type": "code",
   "execution_count": null,
   "id": "746151f2",
   "metadata": {},
   "outputs": [],
   "source": []
  }
 ],
 "metadata": {
  "kernelspec": {
   "display_name": "Python 3 (ipykernel)",
   "language": "python",
   "name": "python3"
  },
  "language_info": {
   "codemirror_mode": {
    "name": "ipython",
    "version": 3
   },
   "file_extension": ".py",
   "mimetype": "text/x-python",
   "name": "python",
   "nbconvert_exporter": "python",
   "pygments_lexer": "ipython3",
   "version": "3.9.13"
  }
 },
 "nbformat": 4,
 "nbformat_minor": 5
}
